{
 "cells": [
  {
   "cell_type": "markdown",
   "metadata": {
    "id": "JR8jlMMPdIn8"
   },
   "source": [
    "# IRIS - Connection II\n",
    "\n",
    "![Add layer](https://github.com/DrKAI/image/blob/main/Add%20Layer.png?raw=true)"
   ]
  },
  {
   "cell_type": "code",
   "execution_count": null,
   "metadata": {
    "id": "5Ryk5eNOb4-w"
   },
   "outputs": [],
   "source": [
    "import numpy as np\n",
    "import pandas as pd\n",
    "\n",
    "import tensorflow as tf\n",
    "from tensorflow import keras\n",
    "\n",
    "from sklearn.datasets import load_iris"
   ]
  },
  {
   "cell_type": "markdown",
   "metadata": {
    "id": "Y0a0ns5LXhDt"
   },
   "source": [
    "## 데이터 불러오기\n",
    "* iris.feature_names를 이용하여 판다스 데이터 프레임 만들기!"
   ]
  },
  {
   "cell_type": "code",
   "execution_count": null,
   "metadata": {
    "id": "ytlkOE3hcqO-"
   },
   "outputs": [],
   "source": [
    "iris = load_iris()\n",
    "\n",
    "x = iris.data\n",
    "y = iris.target"
   ]
  },
  {
   "cell_type": "code",
   "execution_count": null,
   "metadata": {
    "id": "RFt7daYgdILo"
   },
   "outputs": [],
   "source": [
    "df_x = pd.DataFrame(x, columns=iris.feature_names)\n",
    "\n",
    "df_x.head()"
   ]
  },
  {
   "cell_type": "markdown",
   "metadata": {
    "id": "JQb8AGsxgX9D"
   },
   "source": [
    "## train set, test set 구분하기"
   ]
  },
  {
   "cell_type": "code",
   "execution_count": null,
   "metadata": {
    "id": "kVkvex6AgX_r"
   },
   "outputs": [],
   "source": [
    "from sklearn.model_selection import train_test_split"
   ]
  },
  {
   "cell_type": "code",
   "execution_count": null,
   "metadata": {
    "id": "KgnkVNQHlL_N"
   },
   "outputs": [],
   "source": [
    "train_x, test_x, train_y, test_y = train_test_split(df_x, y, test_size=0.2, random_state=2021)"
   ]
  },
  {
   "cell_type": "code",
   "execution_count": null,
   "metadata": {
    "id": "D3Lh88KylaEb"
   },
   "outputs": [],
   "source": [
    "train_x.shape, train_y.shape, test_x.shape, test_y.shape"
   ]
  },
  {
   "cell_type": "markdown",
   "metadata": {
    "id": "vk5ON1iNgHZv"
   },
   "source": [
    "## **sepal끼리, petal끼리**"
   ]
  },
  {
   "cell_type": "code",
   "execution_count": null,
   "metadata": {
    "id": "l9oeJmnAgIQV"
   },
   "outputs": [],
   "source": [
    "print(df_x.columns)"
   ]
  },
  {
   "cell_type": "code",
   "execution_count": null,
   "metadata": {
    "id": "-SrwO-eulzjm"
   },
   "outputs": [],
   "source": [
    "tr_x_se = train_x.loc[:, ['sepal length (cm)', 'sepal width (cm)'] ]\n",
    "tr_x_pe = train_x.loc[:, ['petal length (cm)', 'petal width (cm)'] ]"
   ]
  },
  {
   "cell_type": "code",
   "execution_count": null,
   "metadata": {
    "id": "DqLhUZgImIjj"
   },
   "outputs": [],
   "source": [
    "print(tr_x_se.shape)\n",
    "print(tr_x_pe.shape)"
   ]
  },
  {
   "cell_type": "code",
   "execution_count": null,
   "metadata": {
    "id": "ui3b92QLmPe9"
   },
   "outputs": [],
   "source": [
    "te_x_se = test_x.loc[:, ['sepal length (cm)', 'sepal width (cm)'] ]\n",
    "te_x_pe = test_x.loc[:, ['petal length (cm)', 'petal width (cm)'] ]"
   ]
  },
  {
   "cell_type": "markdown",
   "metadata": {
    "id": "BubbIvpJmZhX"
   },
   "source": [
    "## One-hot Encoding"
   ]
  },
  {
   "cell_type": "code",
   "execution_count": null,
   "metadata": {
    "id": "qTUl-T5Hmc8F"
   },
   "outputs": [],
   "source": [
    "from tensorflow.keras.utils import to_categorical"
   ]
  },
  {
   "cell_type": "code",
   "execution_count": null,
   "metadata": {
    "id": "OP0WpWQpmh5C"
   },
   "outputs": [],
   "source": [
    "train_y = to_categorical(train_y, 3)\n",
    "test_y = to_categorical(test_y, 3)\n"
   ]
  },
  {
   "cell_type": "code",
   "execution_count": null,
   "metadata": {
    "id": "yGn_39zKnS-H"
   },
   "outputs": [],
   "source": [
    "train_y.shape"
   ]
  },
  {
   "cell_type": "markdown",
   "metadata": {
    "id": "KJYhtxM3mc_R"
   },
   "source": [
    "## Modeling : multi-input & Add layer"
   ]
  },
  {
   "cell_type": "code",
   "execution_count": null,
   "metadata": {
    "id": "wvDQJxUNmdB1"
   },
   "outputs": [],
   "source": [
    "from tensorflow.keras.backend import clear_session\n",
    "from tensorflow.keras.models import Model\n",
    "\n",
    "from tensorflow.keras.layers import Input, Dense, Add\n",
    "from tensorflow.keras.activations import relu, softmax\n",
    "\n",
    "from tensorflow.keras.losses import categorical_crossentropy\n",
    "from tensorflow.keras.optimizers import Adam\n",
    "\n",
    "from tensorflow.keras.callbacks import EarlyStopping\n",
    "from tensorflow.keras.utils import plot_model"
   ]
  },
  {
   "cell_type": "code",
   "execution_count": null,
   "metadata": {
    "id": "5celtavonw75"
   },
   "outputs": [],
   "source": [
    "# 1. 세션 클리어\n",
    "clear_session()\n",
    "\n",
    "# 2. 레이어 사슬처럼 엮기 : input 2개!\n",
    "il_se = Input( shape=(2,) )\n",
    "hl_se = Dense(4, activation=relu)(il_se)\n",
    "\n",
    "il_pe = Input( shape=(2,) )\n",
    "hl_pe = Dense(4, activation=relu)(il_pe)\n",
    "\n",
    "al = Add()([hl_se, hl_pe])\n",
    "ol = Dense(3, activation=softmax)(al)\n",
    "\n",
    "# 3. 모델 시작과 끝 지정\n",
    "model = Model([il_se, il_pe], ol)\n",
    "\n",
    "# 4. 모델 컴파일\n",
    "model.compile(loss=categorical_crossentropy, metrics=['accuracy'],\n",
    "              optimizer=Adam())"
   ]
  },
  {
   "cell_type": "markdown",
   "metadata": {
    "id": "qIg-W5eSWhyc"
   },
   "source": [
    "## 모델 시각화"
   ]
  },
  {
   "cell_type": "code",
   "execution_count": null,
   "metadata": {
    "id": "22HFw8xavgGI"
   },
   "outputs": [],
   "source": [
    "plot_model(model, show_shapes=True)"
   ]
  },
  {
   "cell_type": "markdown",
   "metadata": {
    "id": "vuJ7eKLkWnm2"
   },
   "source": [
    "## 학습 시켜보기!"
   ]
  },
  {
   "cell_type": "code",
   "execution_count": null,
   "metadata": {
    "id": "wOMKAhksvyL3"
   },
   "outputs": [],
   "source": [
    "es = EarlyStopping(monitor='val_loss',\n",
    "                   min_delta=0,\n",
    "                   patience=5,\n",
    "                   verbose=1,\n",
    "                   restore_best_weights=True)"
   ]
  },
  {
   "cell_type": "code",
   "execution_count": null,
   "metadata": {
    "id": "yn1k5VlLnw-Y"
   },
   "outputs": [],
   "source": [
    "model.fit([tr_x_se, tr_x_pe], train_y, validation_split=0.15,\n",
    "          epochs=1000, verbose=1, callbacks=[es])"
   ]
  },
  {
   "cell_type": "code",
   "execution_count": null,
   "metadata": {
    "id": "WDh0CNofnxAy"
   },
   "outputs": [],
   "source": []
  }
 ],
 "metadata": {
  "colab": {
   "collapsed_sections": [],
   "name": "3_2_iris_connection_II (sol).ipynb",
   "provenance": []
  },
  "kernelspec": {
   "display_name": "Python 3 (ipykernel)",
   "language": "python",
   "name": "python3"
  },
  "language_info": {
   "codemirror_mode": {
    "name": "ipython",
    "version": 3
   },
   "file_extension": ".py",
   "mimetype": "text/x-python",
   "name": "python",
   "nbconvert_exporter": "python",
   "pygments_lexer": "ipython3",
   "version": "3.9.7"
  }
 },
 "nbformat": 4,
 "nbformat_minor": 1
}
