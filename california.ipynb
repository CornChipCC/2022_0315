{
 "cells": [
  {
   "cell_type": "code",
   "execution_count": 1,
   "id": "08e7c645",
   "metadata": {},
   "outputs": [],
   "source": [
    "from sklearn.datasets import fetch_california_housing"
   ]
  },
  {
   "cell_type": "code",
   "execution_count": 7,
   "id": "be966a49",
   "metadata": {},
   "outputs": [],
   "source": [
    "import tensorflow as tf\n",
    "from tensorflow import keras\n",
    "\n",
    "import numpy as np\n",
    "import pandas as pd\n",
    "import matplotlib.pyplot as plt\n",
    "\n",
    "import random as rd\n",
    "\n",
    "from sklearn.metrics import accuracy_score\n",
    "from sklearn.model_selection import train_test_split\n",
    "from tensorflow.keras.utils import to_categorical "
   ]
  },
  {
   "cell_type": "code",
   "execution_count": 8,
   "id": "a761363b",
   "metadata": {},
   "outputs": [],
   "source": [
    "california = fetch_california_housing()"
   ]
  },
  {
   "cell_type": "code",
   "execution_count": 9,
   "id": "0092904b",
   "metadata": {},
   "outputs": [],
   "source": [
    "x = california.data\n",
    "y = california.target"
   ]
  },
  {
   "cell_type": "code",
   "execution_count": 10,
   "id": "2ee382c3",
   "metadata": {},
   "outputs": [
    {
     "data": {
      "text/plain": [
       "((20640, 8), (20640,))"
      ]
     },
     "execution_count": 10,
     "metadata": {},
     "output_type": "execute_result"
    }
   ],
   "source": [
    "x.shape, y.shape"
   ]
  },
  {
   "cell_type": "code",
   "execution_count": 11,
   "id": "32b8bde4",
   "metadata": {},
   "outputs": [],
   "source": [
    "x_train, x_test, y_train, y_test = train_test_split(x,y,random_state=2022,test_size=0.2)"
   ]
  },
  {
   "cell_type": "code",
   "execution_count": 13,
   "id": "21ba8b39",
   "metadata": {},
   "outputs": [
    {
     "data": {
      "text/plain": [
       "((16512, 8), (16512,))"
      ]
     },
     "execution_count": 13,
     "metadata": {},
     "output_type": "execute_result"
    }
   ],
   "source": [
    "x_train.shape, y_train.shape"
   ]
  },
  {
   "cell_type": "code",
   "execution_count": 18,
   "id": "dca14c71",
   "metadata": {},
   "outputs": [
    {
     "name": "stdout",
     "output_type": "stream",
     "text": [
      "Model: \"model\"\n",
      "_________________________________________________________________\n",
      " Layer (type)                Output Shape              Param #   \n",
      "=================================================================\n",
      " input_1 (InputLayer)        [(None, 8)]               0         \n",
      "                                                                 \n",
      " dense (Dense)               (None, 256)               2304      \n",
      "                                                                 \n",
      " dense_1 (Dense)             (None, 128)               32896     \n",
      "                                                                 \n",
      " dense_2 (Dense)             (None, 64)                8256      \n",
      "                                                                 \n",
      " dense_3 (Dense)             (None, 1)                 65        \n",
      "                                                                 \n",
      "=================================================================\n",
      "Total params: 43,521\n",
      "Trainable params: 43,521\n",
      "Non-trainable params: 0\n",
      "_________________________________________________________________\n"
     ]
    }
   ],
   "source": [
    "keras.backend.clear_session()\n",
    "\n",
    "il = keras.layers.Input(shape = (8,))\n",
    "hl = keras.layers.Dense(256, activation = 'relu')(il)\n",
    "hl = keras.layers.Dense(128, activation = 'relu')(hl)\n",
    "hl = keras.layers.Dense(64, activation = 'relu')(hl)\n",
    "ol = keras.layers.Dense(1)(hl)\n",
    "\n",
    "model = keras.models.Model(il, ol)\n",
    "\n",
    "model.compile(loss= 'mse',\n",
    "             optimizer = 'adam')\n",
    "model.summary()"
   ]
  },
  {
   "cell_type": "code",
   "execution_count": 19,
   "id": "b08a39dc",
   "metadata": {},
   "outputs": [],
   "source": [
    "from tensorflow.keras.callbacks import EarlyStopping"
   ]
  },
  {
   "cell_type": "code",
   "execution_count": 20,
   "id": "46a54eef",
   "metadata": {},
   "outputs": [],
   "source": [
    "es = EarlyStopping(monitor='val_loss',         # 관측 대상!\n",
    "                  patience=5,                  # 몇번이나 참을래?\n",
    "                  min_delta = 0,               # loss가 현상 유지만 되어도 괜찮아\n",
    "                  verbose=1,                   # 얼리스토핑이 어디서 되었는지 알려줌\n",
    "                  restore_best_weights=True)   # 최적의 가중치를 모델에 넘겨줌"
   ]
  },
  {
   "cell_type": "code",
   "execution_count": 21,
   "id": "91fbe737",
   "metadata": {},
   "outputs": [
    {
     "name": "stdout",
     "output_type": "stream",
     "text": [
      "Epoch 1/100\n",
      "413/413 [==============================] - 2s 4ms/step - loss: 105.4448 - val_loss: 1.3526\n",
      "Epoch 2/100\n",
      "413/413 [==============================] - 1s 3ms/step - loss: 1.6531 - val_loss: 0.9587\n",
      "Epoch 3/100\n",
      "413/413 [==============================] - 1s 3ms/step - loss: 9.6972 - val_loss: 15.8386\n",
      "Epoch 4/100\n",
      "413/413 [==============================] - 1s 3ms/step - loss: 7.2655 - val_loss: 1.2122\n",
      "Epoch 5/100\n",
      "413/413 [==============================] - 1s 3ms/step - loss: 2.2923 - val_loss: 0.7492\n",
      "Epoch 6/100\n",
      "413/413 [==============================] - 1s 3ms/step - loss: 30.3099 - val_loss: 1.5693\n",
      "Epoch 7/100\n",
      "413/413 [==============================] - 2s 4ms/step - loss: 1.1392 - val_loss: 0.7674\n",
      "Epoch 8/100\n",
      "413/413 [==============================] - 2s 4ms/step - loss: 2.2472 - val_loss: 0.7185\n",
      "Epoch 9/100\n",
      "413/413 [==============================] - 1s 3ms/step - loss: 2.0788 - val_loss: 2.5026\n",
      "Epoch 10/100\n",
      "413/413 [==============================] - 2s 4ms/step - loss: 1.0217 - val_loss: 0.9324\n",
      "Epoch 11/100\n",
      "413/413 [==============================] - 1s 3ms/step - loss: 0.8305 - val_loss: 0.6077\n",
      "Epoch 12/100\n",
      "413/413 [==============================] - 1s 3ms/step - loss: 1.9554 - val_loss: 1.6398\n",
      "Epoch 13/100\n",
      "413/413 [==============================] - 1s 3ms/step - loss: 0.8883 - val_loss: 0.6221\n",
      "Epoch 14/100\n",
      "413/413 [==============================] - 2s 4ms/step - loss: 1.1514 - val_loss: 0.8180\n",
      "Epoch 15/100\n",
      "413/413 [==============================] - 1s 3ms/step - loss: 1.0629 - val_loss: 1.3431\n",
      "Epoch 16/100\n",
      "396/413 [===========================>..] - ETA: 0s - loss: 0.9213Restoring model weights from the end of the best epoch: 11.\n",
      "413/413 [==============================] - 1s 3ms/step - loss: 0.9336 - val_loss: 1.0782\n",
      "Epoch 16: early stopping\n"
     ]
    },
    {
     "data": {
      "text/plain": [
       "<keras.callbacks.History at 0x27f6e795520>"
      ]
     },
     "execution_count": 21,
     "metadata": {},
     "output_type": "execute_result"
    }
   ],
   "source": [
    "model.fit(x_train, y_train, epochs=100, verbose = 1, validation_split=0.2, callbacks=[es])"
   ]
  },
  {
   "cell_type": "code",
   "execution_count": 22,
   "id": "5def2ec6",
   "metadata": {},
   "outputs": [
    {
     "data": {
      "text/plain": [
       "array([4.2160892, 3.502423 , 3.7106597, 3.0582578, 2.3752496],\n",
       "      dtype=float32)"
      ]
     },
     "execution_count": 22,
     "metadata": {},
     "output_type": "execute_result"
    }
   ],
   "source": [
    "y_pred = model.predict(x)\n",
    "\n",
    "y_pred[:5].reshape(-1)"
   ]
  },
  {
   "cell_type": "code",
   "execution_count": 23,
   "id": "9db6d79a",
   "metadata": {},
   "outputs": [
    {
     "data": {
      "text/plain": [
       "array([4.526, 3.585, 3.521, 3.413, 3.422])"
      ]
     },
     "execution_count": 23,
     "metadata": {},
     "output_type": "execute_result"
    }
   ],
   "source": [
    "y[:5]"
   ]
  },
  {
   "cell_type": "code",
   "execution_count": null,
   "id": "93d4dbdc",
   "metadata": {},
   "outputs": [],
   "source": []
  }
 ],
 "metadata": {
  "kernelspec": {
   "display_name": "Python 3",
   "language": "python",
   "name": "python3"
  },
  "language_info": {
   "codemirror_mode": {
    "name": "ipython",
    "version": 3
   },
   "file_extension": ".py",
   "mimetype": "text/x-python",
   "name": "python",
   "nbconvert_exporter": "python",
   "pygments_lexer": "ipython3",
   "version": "3.8.8"
  }
 },
 "nbformat": 4,
 "nbformat_minor": 5
}
